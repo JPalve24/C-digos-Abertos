{
 "cells": [
  {
   "cell_type": "code",
   "execution_count": 1,
   "metadata": {},
   "outputs": [],
   "source": [
    "# RESHAPING DADOS\n",
    "\n",
    "import pandas as pd\n",
    "import numpy as np"
   ]
  },
  {
   "cell_type": "code",
   "execution_count": 2,
   "metadata": {},
   "outputs": [],
   "source": [
    "datas = pd.date_range(\"20200101\", periods=6)\n",
    "\n",
    "df = pd.DataFrame(np.random.randn(6,4), index=datas, columns=[\"Var A\",\"Var C\",\"Var B\",\"Var D\"])"
   ]
  },
  {
   "cell_type": "code",
   "execution_count": 3,
   "metadata": {},
   "outputs": [
    {
     "data": {
      "text/html": [
       "<div>\n",
       "<style scoped>\n",
       "    .dataframe tbody tr th:only-of-type {\n",
       "        vertical-align: middle;\n",
       "    }\n",
       "\n",
       "    .dataframe tbody tr th {\n",
       "        vertical-align: top;\n",
       "    }\n",
       "\n",
       "    .dataframe thead th {\n",
       "        text-align: right;\n",
       "    }\n",
       "</style>\n",
       "<table border=\"1\" class=\"dataframe\">\n",
       "  <thead>\n",
       "    <tr style=\"text-align: right;\">\n",
       "      <th></th>\n",
       "      <th>Var A</th>\n",
       "      <th>Var C</th>\n",
       "      <th>Var B</th>\n",
       "      <th>Var D</th>\n",
       "    </tr>\n",
       "  </thead>\n",
       "  <tbody>\n",
       "    <tr>\n",
       "      <th>2020-01-01</th>\n",
       "      <td>0.003918</td>\n",
       "      <td>-0.481421</td>\n",
       "      <td>-1.201287</td>\n",
       "      <td>-0.279982</td>\n",
       "    </tr>\n",
       "    <tr>\n",
       "      <th>2020-01-02</th>\n",
       "      <td>-0.153103</td>\n",
       "      <td>-0.010286</td>\n",
       "      <td>0.939870</td>\n",
       "      <td>0.286870</td>\n",
       "    </tr>\n",
       "    <tr>\n",
       "      <th>2020-01-03</th>\n",
       "      <td>-0.673451</td>\n",
       "      <td>-1.052132</td>\n",
       "      <td>0.347747</td>\n",
       "      <td>-1.232808</td>\n",
       "    </tr>\n",
       "    <tr>\n",
       "      <th>2020-01-04</th>\n",
       "      <td>-0.712267</td>\n",
       "      <td>-0.874423</td>\n",
       "      <td>-1.850322</td>\n",
       "      <td>-0.204436</td>\n",
       "    </tr>\n",
       "    <tr>\n",
       "      <th>2020-01-05</th>\n",
       "      <td>-1.686123</td>\n",
       "      <td>0.256121</td>\n",
       "      <td>1.426531</td>\n",
       "      <td>2.153552</td>\n",
       "    </tr>\n",
       "    <tr>\n",
       "      <th>2020-01-06</th>\n",
       "      <td>-0.685133</td>\n",
       "      <td>-0.336377</td>\n",
       "      <td>-0.747649</td>\n",
       "      <td>0.075873</td>\n",
       "    </tr>\n",
       "  </tbody>\n",
       "</table>\n",
       "</div>"
      ],
      "text/plain": [
       "               Var A     Var C     Var B     Var D\n",
       "2020-01-01  0.003918 -0.481421 -1.201287 -0.279982\n",
       "2020-01-02 -0.153103 -0.010286  0.939870  0.286870\n",
       "2020-01-03 -0.673451 -1.052132  0.347747 -1.232808\n",
       "2020-01-04 -0.712267 -0.874423 -1.850322 -0.204436\n",
       "2020-01-05 -1.686123  0.256121  1.426531  2.153552\n",
       "2020-01-06 -0.685133 -0.336377 -0.747649  0.075873"
      ]
     },
     "execution_count": 3,
     "metadata": {},
     "output_type": "execute_result"
    }
   ],
   "source": [
    "df"
   ]
  },
  {
   "cell_type": "code",
   "execution_count": 5,
   "metadata": {},
   "outputs": [],
   "source": [
    "df_T = df.T # Transpor"
   ]
  },
  {
   "cell_type": "code",
   "execution_count": 6,
   "metadata": {},
   "outputs": [
    {
     "data": {
      "text/plain": [
       "(6, 4)"
      ]
     },
     "execution_count": 6,
     "metadata": {},
     "output_type": "execute_result"
    }
   ],
   "source": [
    "df.shape"
   ]
  },
  {
   "cell_type": "code",
   "execution_count": 7,
   "metadata": {},
   "outputs": [
    {
     "data": {
      "text/plain": [
       "(4, 6)"
      ]
     },
     "execution_count": 7,
     "metadata": {},
     "output_type": "execute_result"
    }
   ],
   "source": [
    "df_T.shape"
   ]
  },
  {
   "cell_type": "code",
   "execution_count": 8,
   "metadata": {},
   "outputs": [
    {
     "data": {
      "text/plain": [
       "array([[ 0.00391803, -0.15310323, -0.67345095, -0.71226673, -1.68612272,\n",
       "        -0.68513319],\n",
       "       [-0.48142126, -0.01028552, -1.05213165, -0.87442285,  0.25612134,\n",
       "        -0.33637714],\n",
       "       [-1.20128724,  0.93987012,  0.34774674, -1.85032159,  1.42653145,\n",
       "        -0.74764933],\n",
       "       [-0.27998233,  0.28687021, -1.23280766, -0.20443623,  2.15355233,\n",
       "         0.07587267]])"
      ]
     },
     "execution_count": 8,
     "metadata": {},
     "output_type": "execute_result"
    }
   ],
   "source": [
    "df_T.values"
   ]
  },
  {
   "cell_type": "code",
   "execution_count": 10,
   "metadata": {},
   "outputs": [
    {
     "data": {
      "text/plain": [
       "24"
      ]
     },
     "execution_count": 10,
     "metadata": {},
     "output_type": "execute_result"
    }
   ],
   "source": [
    "np.size(df_T.values)"
   ]
  },
  {
   "cell_type": "code",
   "execution_count": 11,
   "metadata": {},
   "outputs": [],
   "source": [
    "v = df_T.values"
   ]
  },
  {
   "cell_type": "code",
   "execution_count": 16,
   "metadata": {},
   "outputs": [],
   "source": [
    "r = v.reshape((2,12)) # 2 vezes 12 da 24 que é o size que tem que dar"
   ]
  },
  {
   "cell_type": "code",
   "execution_count": 17,
   "metadata": {},
   "outputs": [
    {
     "data": {
      "text/html": [
       "<div>\n",
       "<style scoped>\n",
       "    .dataframe tbody tr th:only-of-type {\n",
       "        vertical-align: middle;\n",
       "    }\n",
       "\n",
       "    .dataframe tbody tr th {\n",
       "        vertical-align: top;\n",
       "    }\n",
       "\n",
       "    .dataframe thead th {\n",
       "        text-align: right;\n",
       "    }\n",
       "</style>\n",
       "<table border=\"1\" class=\"dataframe\">\n",
       "  <thead>\n",
       "    <tr style=\"text-align: right;\">\n",
       "      <th></th>\n",
       "      <th>0</th>\n",
       "      <th>1</th>\n",
       "      <th>2</th>\n",
       "      <th>3</th>\n",
       "      <th>4</th>\n",
       "      <th>5</th>\n",
       "      <th>6</th>\n",
       "      <th>7</th>\n",
       "      <th>8</th>\n",
       "      <th>9</th>\n",
       "      <th>10</th>\n",
       "      <th>11</th>\n",
       "    </tr>\n",
       "  </thead>\n",
       "  <tbody>\n",
       "    <tr>\n",
       "      <th>0</th>\n",
       "      <td>0.003918</td>\n",
       "      <td>-0.153103</td>\n",
       "      <td>-0.673451</td>\n",
       "      <td>-0.712267</td>\n",
       "      <td>-1.686123</td>\n",
       "      <td>-0.685133</td>\n",
       "      <td>-0.481421</td>\n",
       "      <td>-0.010286</td>\n",
       "      <td>-1.052132</td>\n",
       "      <td>-0.874423</td>\n",
       "      <td>0.256121</td>\n",
       "      <td>-0.336377</td>\n",
       "    </tr>\n",
       "    <tr>\n",
       "      <th>1</th>\n",
       "      <td>-1.201287</td>\n",
       "      <td>0.939870</td>\n",
       "      <td>0.347747</td>\n",
       "      <td>-1.850322</td>\n",
       "      <td>1.426531</td>\n",
       "      <td>-0.747649</td>\n",
       "      <td>-0.279982</td>\n",
       "      <td>0.286870</td>\n",
       "      <td>-1.232808</td>\n",
       "      <td>-0.204436</td>\n",
       "      <td>2.153552</td>\n",
       "      <td>0.075873</td>\n",
       "    </tr>\n",
       "  </tbody>\n",
       "</table>\n",
       "</div>"
      ],
      "text/plain": [
       "         0         1         2         3         4         5         6   \\\n",
       "0  0.003918 -0.153103 -0.673451 -0.712267 -1.686123 -0.685133 -0.481421   \n",
       "1 -1.201287  0.939870  0.347747 -1.850322  1.426531 -0.747649 -0.279982   \n",
       "\n",
       "         7         8         9         10        11  \n",
       "0 -0.010286 -1.052132 -0.874423  0.256121 -0.336377  \n",
       "1  0.286870 -1.232808 -0.204436  2.153552  0.075873  "
      ]
     },
     "execution_count": 17,
     "metadata": {},
     "output_type": "execute_result"
    }
   ],
   "source": [
    "df2 = pd.DataFrame(r)\n",
    "df2"
   ]
  },
  {
   "cell_type": "code",
   "execution_count": null,
   "metadata": {},
   "outputs": [],
   "source": []
  }
 ],
 "metadata": {
  "interpreter": {
   "hash": "5fe508b7c6e01f478bea6c6df5d0273d67c83be7364559a2ebd2d34bf4395d29"
  },
  "kernelspec": {
   "display_name": "Python 3.10.2 64-bit",
   "language": "python",
   "name": "python3"
  },
  "language_info": {
   "codemirror_mode": {
    "name": "ipython",
    "version": 3
   },
   "file_extension": ".py",
   "mimetype": "text/x-python",
   "name": "python",
   "nbconvert_exporter": "python",
   "pygments_lexer": "ipython3",
   "version": "3.10.2"
  },
  "orig_nbformat": 4
 },
 "nbformat": 4,
 "nbformat_minor": 2
}
